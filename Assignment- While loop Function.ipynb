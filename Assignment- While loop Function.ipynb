{
 "cells": [
  {
   "cell_type": "code",
   "execution_count": 12,
   "id": "61cd594b-c791-4252-a39f-4fb1b12849d0",
   "metadata": {},
   "outputs": [],
   "source": [
    "\n",
    "x = range(25)"
   ]
  },
  {
   "cell_type": "code",
   "execution_count": 14,
   "id": "b329a8f1-6003-4c81-b7d2-3bfc6677c72b",
   "metadata": {},
   "outputs": [
    {
     "data": {
      "text/plain": [
       "range(0, 25)"
      ]
     },
     "execution_count": 14,
     "metadata": {},
     "output_type": "execute_result"
    }
   ],
   "source": [
    "x"
   ]
  },
  {
   "cell_type": "code",
   "execution_count": 19,
   "id": "a51052c9-17a9-40ca-beab-909f57e916d8",
   "metadata": {},
   "outputs": [
    {
     "ename": "TypeError",
     "evalue": "int() argument must be a string, a bytes-like object or a real number, not 'range'",
     "output_type": "error",
     "traceback": [
      "\u001b[0;31m---------------------------------------------------------------------------\u001b[0m",
      "\u001b[0;31mTypeError\u001b[0m                                 Traceback (most recent call last)",
      "Cell \u001b[0;32mIn[19], line 1\u001b[0m\n\u001b[0;32m----> 1\u001b[0m l \u001b[38;5;241m=\u001b[39m \u001b[38;5;28;43mint\u001b[39;49m\u001b[43m(\u001b[49m\u001b[38;5;28;43mrange\u001b[39;49m\u001b[43m(\u001b[49m\u001b[38;5;241;43m10\u001b[39;49m\u001b[43m)\u001b[49m\u001b[43m)\u001b[49m\n",
      "\u001b[0;31mTypeError\u001b[0m: int() argument must be a string, a bytes-like object or a real number, not 'range'"
     ]
    }
   ],
   "source": [
    "l = int(range(10))"
   ]
  },
  {
   "cell_type": "code",
   "execution_count": 20,
   "id": "e3e96384-2dd9-4ede-9210-d736bfd0f721",
   "metadata": {},
   "outputs": [
    {
     "data": {
      "text/plain": [
       "range(0, 10)"
      ]
     },
     "execution_count": 20,
     "metadata": {},
     "output_type": "execute_result"
    }
   ],
   "source": [
    "l"
   ]
  },
  {
   "cell_type": "code",
   "execution_count": 28,
   "id": "54f0d0ff-edb1-4a1c-948c-64f8b3334026",
   "metadata": {},
   "outputs": [],
   "source": [
    "## Q1 - Which keyword is used to create a function?\n",
    "# Ans : We use def function to create a function.\n",
    "\n",
    "\n",
    "\n",
    "\n",
    "\n",
    "\n",
    "def Ex1(l):\n",
    "    l = []\n",
    "    for i in range(1,26):\n",
    "        if i % 2 != 0:\n",
    "            l.append(i)\n",
    "            i= i + 1\n",
    "    return l "
   ]
  },
  {
   "cell_type": "code",
   "execution_count": 29,
   "id": "990b8612-6070-4727-91c7-340193fec631",
   "metadata": {},
   "outputs": [
    {
     "data": {
      "text/plain": [
       "[1, 3, 5, 7, 9, 11, 13, 15, 17, 19, 21, 23, 25]"
      ]
     },
     "execution_count": 29,
     "metadata": {},
     "output_type": "execute_result"
    }
   ],
   "source": [
    "Ex1(l)"
   ]
  },
  {
   "cell_type": "code",
   "execution_count": 7,
   "id": "88288fe6-4dee-43aa-ac6c-d554adbf11a4",
   "metadata": {},
   "outputs": [
    {
     "data": {
      "text/plain": [
       "(1, 2, 3)"
      ]
     },
     "execution_count": 7,
     "metadata": {},
     "output_type": "execute_result"
    }
   ],
   "source": [
    "''' Q2. Why *args and **kwargs is used in some functions? Create a function each for *args and **kwargs\n",
    "to demonstrate their use.\n",
    "\n",
    "Ans: ( *args ) function is use when we do not know how many arguments will be passed into a function, and we add a * before the parameter name in the function definition and it is used to pass a non-keyworded, variable-length argument list.\n",
    "It allows us to take more arguments than the number of formal arguments that was previously defined.\n",
    "\n",
    "( **kwargs ) is used to define a data in the form of key value pair.A dictionary can contain key, value pairs and that are the kwargs.\n",
    " **kwargs accept keyworded variable-length argument passed by the function. for first variable is a key and second variable is a value. In simple words, what we assign is value, and to whom we assign is a key.''''\n",
    " \n",
    "# For Args\n",
    "\n",
    "def test1(*sudh):\n",
    "    return sudh\n",
    "test1(1,2,3)\n",
    "\n"
   ]
  },
  {
   "cell_type": "code",
   "execution_count": 8,
   "id": "dc8eae6a-bfa3-466e-9773-461eb0c20ed1",
   "metadata": {},
   "outputs": [
    {
     "data": {
      "text/plain": [
       "{'a': 5, 'b': 2}"
      ]
     },
     "execution_count": 8,
     "metadata": {},
     "output_type": "execute_result"
    }
   ],
   "source": [
    "# For kwargs\n",
    "\n",
    "def test2(**sudh):\n",
    "    return sudh\n",
    "test2(a = 5, b = 2)\n"
   ]
  },
  {
   "cell_type": "code",
   "execution_count": 9,
   "id": "43725801-c2ae-404d-b4e7-5350824c15e2",
   "metadata": {},
   "outputs": [
    {
     "name": "stdout",
     "output_type": "stream",
     "text": [
      "2\n",
      "4\n",
      "6\n",
      "8\n",
      "10\n"
     ]
    }
   ],
   "source": [
    "'''Q3. What is an iterator in python? Name the method used to initialise the iterator object and the method\n",
    "used for iteration. Use these methods to print the first five elements of the given list [2, 4, 6, 8, 10, 12, 14,\n",
    "16, 18, 20].\n",
    "\n",
    "# Ans: Iterator > An iterator in Python is an object that is used to iterate over iterable objects like lists, tuples, dicts, and sets. The Python iterators object is initialized using the iter() method. It uses the next() method for iteration.\n",
    "\n",
    "__iter__(): The iter() method is called for the initialization of an iterator. This returns an iterator object\n",
    "__next__(): The next method returns the next value for the iterable. When we use a for loop to traverse any iterable object, internally it uses the iter() method to get an iterator object, which further uses the next() method to iterate over. This method raises a StopIteration to signal the end of the iteration. method acts similar, you can do operations (initializing etc.), but must always return the iterator object itself.'''\n",
    "\n",
    "# Use these methods to print the first five elements of the given list [2, 4, 6, 8, 10, 12, 14, 16, 18, 20].\n",
    "\n",
    "list1 = [2,4,6,8,10,12,14,16,18,20]\n",
    "\n",
    "test1 = iter(list1)\n",
    " \n",
    "print(next(test1))\n",
    "print(next(test1))\n",
    "print(next(test1))\n",
    "print(next(test1))\n",
    "print(next(test1))\n"
   ]
  },
  {
   "cell_type": "code",
   "execution_count": 13,
   "id": "cfa7ec56-575a-4b0d-a96b-39ceb3dd0de2",
   "metadata": {},
   "outputs": [
    {
     "name": "stdout",
     "output_type": "stream",
     "text": [
      "<class 'generator'>\n",
      "Hello students !!\n",
      "This is pwskills class\n"
     ]
    }
   ],
   "source": [
    "'''Q4. What is a generator function in python? Why yield keyword is used? Give an example of a generator function.\n",
    "\n",
    "Ans: Generator function >> A generator function in Python is defined like a normal function, but whenever it needs to generate a value, it does so with the yield keyword rather than return. If the body of a def contains yield, the function automatically becomes a Python generator function. \n",
    "Yield keyword >> the yield keyword will turn any expression that is given with it into a generator object and return it to the caller. Therefore, you must iterate over the generator object if you wish to obtain the values stored there. we will see the yield python example.'''\n",
    "\n",
    "def fun_generator():\n",
    "    yield \"Hello students !!\"\n",
    "    yield \"This is pwskills class\"\n",
    " \n",
    " \n",
    "obj = fun_generator()\n",
    " \n",
    "print(type(obj))\n",
    " \n",
    "print(next(obj))\n",
    "print(next(obj))\n"
   ]
  },
  {
   "cell_type": "code",
   "execution_count": 1,
   "id": "3d5b16c5-9ecf-4fbd-9d15-8504d772bbfd",
   "metadata": {},
   "outputs": [
    {
     "name": "stdout",
     "output_type": "stream",
     "text": [
      "[2, 3, 5, 7, 11, 13, 17, 19, 23, 29, 31, 37, 41, 43, 47, 53, 59, 61, 67, 71, 73, 79, 83, 89, 97, 101, 103, 107, 109, 113, 127, 131, 137, 139, 149, 151, 157, 163, 167, 173, 179, 181, 191, 193, 197, 199, 211, 223, 227, 229, 233, 239, 241, 251, 257, 263, 269, 271, 277, 281, 283, 293, 307, 311, 313, 317, 331, 337, 347, 349, 353, 359, 367, 373, 379, 383, 389, 397, 401, 409, 419, 421, 431, 433, 439, 443, 449, 457, 461, 463, 467, 479, 487, 491, 499, 503, 509, 521, 523, 541, 547, 557, 563, 569, 571, 577, 587, 593, 599, 601, 607, 613, 617, 619, 631, 641, 643, 647, 653, 659, 661, 673, 677, 683, 691, 701, 709, 719, 727, 733, 739, 743, 751, 757, 761, 769, 773, 787, 797, 809, 811, 821, 823, 827, 829, 839, 853, 857, 859, 863, 877, 881, 883, 887, 907, 911, 919, 929, 937, 941, 947, 953, 967, 971, 977, 983, 991, 997]\n",
      "2\n",
      "3\n",
      "5\n",
      "7\n",
      "11\n",
      "13\n",
      "17\n",
      "19\n",
      "23\n",
      "29\n",
      "31\n",
      "37\n",
      "41\n",
      "43\n",
      "47\n",
      "53\n",
      "59\n",
      "61\n",
      "67\n",
      "71\n"
     ]
    }
   ],
   "source": [
    "'''Q5. Create a generator function for prime numbers less than 1000. Use the next() method to print the first 20 prime numbers.'''\n",
    "\n",
    "\n",
    "def genprimes(limit): \n",
    "                      \n",
    "    D = {}            \n",
    "    q = 2\n",
    "\n",
    "    while q <= limit:\n",
    "        if q not in D:\n",
    "            yield q\n",
    "            D[q * q] = [q]\n",
    "        else:\n",
    "            for p in D[q]:\n",
    "                D.setdefault(p + q, []).append(p)\n",
    "            del D[q]\n",
    "        q += 1\n",
    "\n",
    "p = genprimes(1000)\n",
    "prms = [i for i in p]\n",
    "print(prms)\n",
    "\n",
    "# Use the next() method to print the first 20 prime numbers\n",
    "def gen1(): \n",
    "    yield 2 \n",
    "    yield 3 \n",
    "    yield 5\n",
    "    yield 7 \n",
    "    yield 11 \n",
    "    yield 13 \n",
    "    yield 17\n",
    "    yield 19\n",
    "    yield 23\n",
    "    yield 29\n",
    "    yield 31\n",
    "    yield 37\n",
    "    yield 41\n",
    "    yield 43\n",
    "    yield 47\n",
    "    yield 53\n",
    "    yield 59\n",
    "    yield 61\n",
    "    yield 67\n",
    "    yield 71\n",
    "    \n",
    "x = gen1() \n",
    "\n",
    "# In Python 3, __next__() \n",
    "print(next(x))\n",
    "print(next(x)) \n",
    "print(next(x)) \n",
    "print(next(x)) \n",
    "print(next(x)) \n",
    "print(next(x)) \n",
    "print(next(x)) \n",
    "print(next(x)) \n",
    "print(next(x)) \n",
    "print(next(x)) \n",
    "print(next(x)) \n",
    "print(next(x)) \n",
    "print(next(x)) \n",
    "print(next(x)) \n",
    "print(next(x)) \n",
    "print(next(x)) \n",
    "print(next(x)) \n",
    "print(next(x)) \n",
    "print(next(x)) \n",
    "print(next(x)) \n"
   ]
  },
  {
   "cell_type": "code",
   "execution_count": 62,
   "id": "c3a95658-c080-4458-83a6-781848c52add",
   "metadata": {},
   "outputs": [
    {
     "name": "stdout",
     "output_type": "stream",
     "text": [
      "1 2 3 5 8 13 21 34 55 89 \n"
     ]
    }
   ],
   "source": [
    "# Q6. Write a python program to print the first 10 Fibonacci numbers using a while loop.\n",
    "\n",
    "# Ans:\n",
    "\n",
    "n = 10\n",
    "num1 = 0\n",
    "num2 = 1\n",
    "next_number = num2  \n",
    "count = 1\n",
    " \n",
    "while count <= n:\n",
    "    print(next_number, end=\" \")\n",
    "    count += 1\n",
    "    num1, num2 = num2, next_number\n",
    "    next_number = num1 + num2\n",
    "print()"
   ]
  },
  {
   "cell_type": "code",
   "execution_count": 2,
   "id": "23c1eaed-d1c8-45e6-8331-34b078954a79",
   "metadata": {},
   "outputs": [
    {
     "name": "stdout",
     "output_type": "stream",
     "text": [
      "['p', 'w', 's', 'k', 'i', 'l', 'l', 's']\n"
     ]
    }
   ],
   "source": [
    "## Q7. Write a List Comprehension to iterate through the given string: ‘pwskills’. Expected output: ['p', 'w', 's', 'k', 'i', 'l', 'l', 's']\n",
    "## Ans:\n",
    "\n",
    "#List Comprehension to iterate through the string: ‘pwskills’.\n",
    "\n",
    "string = 'pwskills'\n",
    "output = [char for char in string]\n",
    "print(output)\n"
   ]
  },
  {
   "cell_type": "code",
   "execution_count": 6,
   "id": "193d6ead-f7fd-42f8-8276-a0a9f85061ae",
   "metadata": {},
   "outputs": [
    {
     "name": "stdin",
     "output_type": "stream",
     "text": [
      "Please type a number :  9\n"
     ]
    },
    {
     "name": "stdout",
     "output_type": "stream",
     "text": [
      "This is a palindrome\n"
     ]
    }
   ],
   "source": [
    "## Q8. Write a python program to check whether a given number is Palindrome or not using a while loop.\n",
    "\n",
    "# Ans: \n",
    "\n",
    "n = int(input(\"Please type a number : \"))\n",
    "def reverse(num):\n",
    "    if num<10:\n",
    "      return num \n",
    "    else:\n",
    "      return int(str(num%10) + str(reverse(num//10)))\n",
    "def isPalindrome(num):\n",
    "    if num == reverse(num):\n",
    "        return 1\n",
    "    return 0\n",
    "if isPalindrome(n) == 1:\n",
    "    print(\"This is a palindrome\")\n",
    "else:\n",
    "    print(\"This is not a palindrome\") "
   ]
  },
  {
   "cell_type": "code",
   "execution_count": 8,
   "id": "56988d5a-eb77-4286-99c6-8d9dd5ab63af",
   "metadata": {},
   "outputs": [
    {
     "name": "stdout",
     "output_type": "stream",
     "text": [
      "[1, 2, 3, 4, 5, 6, 7, 8, 9, 10, 11, 12, 13, 14, 15, 16, 17, 18, 19, 20, 21, 22, 23, 24, 25, 26, 27, 28, 29, 30, 31, 32, 33, 34, 35, 36, 37, 38, 39, 40, 41, 42, 43, 44, 45, 46, 47, 48, 49, 50, 51, 52, 53, 54, 55, 56, 57, 58, 59, 60, 61, 62, 63, 64, 65, 66, 67, 68, 69, 70, 71, 72, 73, 74, 75, 76, 77, 78, 79, 80, 81, 82, 83, 84, 85, 86, 87, 88, 89, 90, 91, 92, 93, 94, 95, 96, 97, 98, 99, 100]\n"
     ]
    },
    {
     "data": {
      "text/plain": [
       "[1,\n",
       " 3,\n",
       " 5,\n",
       " 7,\n",
       " 9,\n",
       " 11,\n",
       " 13,\n",
       " 15,\n",
       " 17,\n",
       " 19,\n",
       " 21,\n",
       " 23,\n",
       " 25,\n",
       " 27,\n",
       " 29,\n",
       " 31,\n",
       " 33,\n",
       " 35,\n",
       " 37,\n",
       " 39,\n",
       " 41,\n",
       " 43,\n",
       " 45,\n",
       " 47,\n",
       " 49,\n",
       " 51,\n",
       " 53,\n",
       " 55,\n",
       " 57,\n",
       " 59,\n",
       " 61,\n",
       " 63,\n",
       " 65,\n",
       " 67,\n",
       " 69,\n",
       " 71,\n",
       " 73,\n",
       " 75,\n",
       " 77,\n",
       " 79,\n",
       " 81,\n",
       " 83,\n",
       " 85,\n",
       " 87,\n",
       " 89,\n",
       " 91,\n",
       " 93,\n",
       " 95,\n",
       " 97,\n",
       " 99]"
      ]
     },
     "execution_count": 8,
     "metadata": {},
     "output_type": "execute_result"
    }
   ],
   "source": [
    "# Q9. Write a code to print odd numbers from 1 to 100 using list comprehension.\n",
    "# Ans:\n",
    "\n",
    "List = [l for l in range(1, 101)]\n",
    "print(List)\n",
    "\n",
    "[odd for odd in range(1,100) if odd % 2! = 0]"
   ]
  },
  {
   "cell_type": "code",
   "execution_count": null,
   "id": "e246d0fe-99b2-4535-ad23-d7053010af4a",
   "metadata": {},
   "outputs": [],
   "source": []
  },
  {
   "cell_type": "code",
   "execution_count": null,
   "id": "3b3cb017-c83b-4c82-9969-d240fbb7a47d",
   "metadata": {},
   "outputs": [],
   "source": []
  }
 ],
 "metadata": {
  "kernelspec": {
   "display_name": "Python 3 (ipykernel)",
   "language": "python",
   "name": "python3"
  },
  "language_info": {
   "codemirror_mode": {
    "name": "ipython",
    "version": 3
   },
   "file_extension": ".py",
   "mimetype": "text/x-python",
   "name": "python",
   "nbconvert_exporter": "python",
   "pygments_lexer": "ipython3",
   "version": "3.10.8"
  }
 },
 "nbformat": 4,
 "nbformat_minor": 5
}
